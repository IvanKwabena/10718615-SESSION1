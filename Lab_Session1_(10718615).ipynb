{
  "nbformat": 4,
  "nbformat_minor": 5,
  "metadata": {
    "kernelspec": {
      "display_name": "Python 3",
      "language": "python",
      "name": "python3"
    },
    "language_info": {
      "codemirror_mode": {
        "name": "ipython",
        "version": 3
      },
      "file_extension": ".py",
      "mimetype": "text/x-python",
      "name": "python",
      "nbconvert_exporter": "python",
      "pygments_lexer": "ipython3",
      "version": "3.8.3"
    },
    "colab": {
      "name": "Lab_Session1 (10718615).ipynb",
      "provenance": [],
      "collapsed_sections": []
    }
  },
  "cells": [
    {
      "cell_type": "markdown",
      "metadata": {
        "id": "published-doctor"
      },
      "source": [
        "# CSCD 319 - COMPUTER VISION\n"
      ],
      "id": "published-doctor"
    },
    {
      "cell_type": "markdown",
      "metadata": {
        "id": "terminal-sentence"
      },
      "source": [
        "### ASSIGNMENT 1 - 5 marks\n",
        "\n",
        "All codes should be written in Python 3.x\n",
        "\n",
        "**SUBMISSION DEADLINE:** FRIDAY, APRIL 23rd, 2021."
      ],
      "id": "terminal-sentence"
    },
    {
      "cell_type": "markdown",
      "metadata": {
        "id": "desperate-morris"
      },
      "source": [
        "##### QUESTION 1\n",
        "Write a program to display the square root of even numbers between 1 and 50"
      ],
      "id": "desperate-morris"
    },
    {
      "cell_type": "code",
      "metadata": {
        "id": "contained-consultation"
      },
      "source": [
        "# USING THE SQUARE ROOT FUNCTION \n",
        "\n",
        "from math import sqrt"
      ],
      "id": "contained-consultation",
      "execution_count": null,
      "outputs": []
    },
    {
      "cell_type": "code",
      "metadata": {
        "colab": {
          "base_uri": "https://localhost:8080/"
        },
        "id": "B3O72YDej-Au",
        "outputId": "90c9a9ab-b2fd-4e3b-af2b-6b80553ed5a2"
      },
      "source": [
        "def dis_sqrt():\n",
        "  for x in range(2, 49, 2):\n",
        "    \n",
        "    print(f'No:{x} ----> Square Root:{sqrt(x)}')\n",
        "\n",
        "\n",
        "\n",
        "dis_sqrt()"
      ],
      "id": "B3O72YDej-Au",
      "execution_count": null,
      "outputs": [
        {
          "output_type": "stream",
          "text": [
            "No:2 ----> Square Root:1.4142135623730951\n",
            "No:4 ----> Square Root:2.0\n",
            "No:6 ----> Square Root:2.449489742783178\n",
            "No:8 ----> Square Root:2.8284271247461903\n",
            "No:10 ----> Square Root:3.1622776601683795\n",
            "No:12 ----> Square Root:3.4641016151377544\n",
            "No:14 ----> Square Root:3.7416573867739413\n",
            "No:16 ----> Square Root:4.0\n",
            "No:18 ----> Square Root:4.242640687119285\n",
            "No:20 ----> Square Root:4.47213595499958\n",
            "No:22 ----> Square Root:4.69041575982343\n",
            "No:24 ----> Square Root:4.898979485566356\n",
            "No:26 ----> Square Root:5.0990195135927845\n",
            "No:28 ----> Square Root:5.291502622129181\n",
            "No:30 ----> Square Root:5.477225575051661\n",
            "No:32 ----> Square Root:5.656854249492381\n",
            "No:34 ----> Square Root:5.830951894845301\n",
            "No:36 ----> Square Root:6.0\n",
            "No:38 ----> Square Root:6.164414002968976\n",
            "No:40 ----> Square Root:6.324555320336759\n",
            "No:42 ----> Square Root:6.48074069840786\n",
            "No:44 ----> Square Root:6.6332495807108\n",
            "No:46 ----> Square Root:6.782329983125268\n",
            "No:48 ----> Square Root:6.928203230275509\n"
          ],
          "name": "stdout"
        }
      ]
    },
    {
      "cell_type": "markdown",
      "metadata": {
        "id": "3PZl3hnArqNf"
      },
      "source": [
        " ##   "
      ],
      "id": "3PZl3hnArqNf"
    },
    {
      "cell_type": "markdown",
      "metadata": {
        "id": "animal-position"
      },
      "source": [
        "##### QUESTION 2\n",
        "\n",
        "Write a program to generate an array of 10 random whole numbers with the lower limit and the upper limit coming from a user input.\\\n",
        "This means that a user would define the lower boundary of the array as well as the upper boundary by providing an input for both values.\\\n",
        "And then you generate an array/list of random numbers that falls within the given user input.\n",
        "\n",
        "**Hint:** You may use the random method imported to help you generate the numbers. "
      ],
      "id": "animal-position"
    },
    {
      "cell_type": "code",
      "metadata": {
        "id": "faced-panic"
      },
      "source": [
        "import random"
      ],
      "id": "faced-panic",
      "execution_count": null,
      "outputs": []
    },
    {
      "cell_type": "code",
      "metadata": {
        "id": "bpicL-LMgrus"
      },
      "source": [
        ""
      ],
      "id": "bpicL-LMgrus",
      "execution_count": null,
      "outputs": []
    },
    {
      "cell_type": "code",
      "metadata": {
        "id": "bZOdkb4kr_oB"
      },
      "source": [
        "def rand_numbers():\n",
        "  array= list()\n",
        "\n",
        "  lower = int(input(\"Enter the lower boundary for the array: \"))\n",
        "  upper = int(input(\"Enter the upper boundary for the array: \"))\n",
        "  \n",
        "  if (upper > lower):\n",
        "    for i in range(10):\n",
        "      array.append(random.randint(lower, upper))\n",
        "  else: \n",
        "    print(\"Lower limit cannot be greater than upper limit!\")\n",
        "\n",
        "    \n",
        "\n",
        "\n",
        "  return array\n"
      ],
      "id": "bZOdkb4kr_oB",
      "execution_count": null,
      "outputs": []
    },
    {
      "cell_type": "code",
      "metadata": {
        "colab": {
          "base_uri": "https://localhost:8080/"
        },
        "id": "Sk9zFE91tFtl",
        "outputId": "749dae52-3834-44f2-baa1-5bbd5662c658"
      },
      "source": [
        "generated_array = rand_numbers()"
      ],
      "id": "Sk9zFE91tFtl",
      "execution_count": null,
      "outputs": [
        {
          "output_type": "stream",
          "text": [
            "Enter the lower boundary for the array: 52\n",
            "Enter the upper boundary for the array: 10\n",
            "Lower limit cannot be greater than upper limit!\n"
          ],
          "name": "stdout"
        }
      ]
    },
    {
      "cell_type": "markdown",
      "metadata": {
        "id": "Jqh-x7NZxUeh"
      },
      "source": [
        " #  "
      ],
      "id": "Jqh-x7NZxUeh"
    },
    {
      "cell_type": "markdown",
      "metadata": {
        "id": "medium-williams"
      },
      "source": [
        "##### QUESTION 3\n",
        "\n",
        "Write a function that takes the array generated above in Question 2 as an argument and perform both the addition and multiplication operations on the array.\\\n",
        "Print out the results of each operation."
      ],
      "id": "medium-williams"
    },
    {
      "cell_type": "code",
      "metadata": {
        "id": "formed-fashion"
      },
      "source": [
        "#using numpy\n",
        "import numpy as np\n",
        "\n",
        "def add_mul_array(array):\n",
        "\n",
        "  add_sum = np.sum(array)\n",
        "  print(f'Sum: {add_sum}')\n",
        "\n",
        "  mul = np.prod(array)\n",
        "\n",
        "  print(f'Product: {mul}')"
      ],
      "id": "formed-fashion",
      "execution_count": null,
      "outputs": []
    },
    {
      "cell_type": "code",
      "metadata": {
        "id": "fg-_dqB4yxjX"
      },
      "source": [
        ""
      ],
      "id": "fg-_dqB4yxjX",
      "execution_count": null,
      "outputs": []
    },
    {
      "cell_type": "code",
      "metadata": {
        "colab": {
          "base_uri": "https://localhost:8080/"
        },
        "id": "aXO_NP_Oykst",
        "outputId": "b22076b6-332c-4e40-be0b-459373f23ad6"
      },
      "source": [
        "dic = {\"Franklin Osei\": \"Such a genius  \"}\n",
        "dic\n",
        "\n"
      ],
      "id": "aXO_NP_Oykst",
      "execution_count": null,
      "outputs": [
        {
          "output_type": "execute_result",
          "data": {
            "text/plain": [
              "{'Franklin Osei': 'Such a genius  '}"
            ]
          },
          "metadata": {
            "tags": []
          },
          "execution_count": 78
        }
      ]
    },
    {
      "cell_type": "code",
      "metadata": {
        "colab": {
          "base_uri": "https://localhost:8080/"
        },
        "id": "_o5gdMEtwz0f",
        "outputId": "a49886b9-ec40-48c8-b8a3-e87bee8642da"
      },
      "source": [
        "add_mul_array(gen_array)"
      ],
      "id": "_o5gdMEtwz0f",
      "execution_count": null,
      "outputs": [
        {
          "output_type": "stream",
          "text": [
            "Sum: 682\n",
            "Product: 1433115756468264960\n"
          ],
          "name": "stdout"
        }
      ]
    },
    {
      "cell_type": "markdown",
      "metadata": {
        "id": "historical-blake"
      },
      "source": [
        "##### QUESTION 4\n",
        "Let us practise with the popular Collatz sequence.\n",
        "\n",
        "Write a function named collatz() that has one parameter named number. If \n",
        "number is even, then collatz() should print number // 2 and return the resulting value.\\\n",
        "If number is odd, then collatz() should print and return (3 * number + 1).\n",
        "\n",
        "Then write a program that lets the user type in an integer and that keeps \n",
        "calling collatz() on that number until the function returns the value 1. "
      ],
      "id": "historical-blake"
    },
    {
      "cell_type": "code",
      "metadata": {
        "id": "collected-patio"
      },
      "source": [
        "def collatz(number):\n",
        "  \n",
        "  if number % 2 ==  0:\n",
        "    temp = number // 2\n",
        "    print(temp)\n",
        "    return temp\n",
        "\n",
        "  elif (number % 2 == 1):\n",
        "    temp = 3 * number + 1\n",
        "    print(temp)\n",
        "    return temp\n"
      ],
      "id": "collected-patio",
      "execution_count": null,
      "outputs": []
    },
    {
      "cell_type": "code",
      "metadata": {
        "colab": {
          "base_uri": "https://localhost:8080/"
        },
        "id": "yKzFrROr0tnG",
        "outputId": "2b6f57a4-e077-45d4-e9f3-b023151c668f"
      },
      "source": [
        "number = int(input('Please enter a number: '))"
      ],
      "id": "yKzFrROr0tnG",
      "execution_count": null,
      "outputs": [
        {
          "output_type": "stream",
          "text": [
            "Please enter a number: 200\n"
          ],
          "name": "stdout"
        }
      ]
    },
    {
      "cell_type": "code",
      "metadata": {
        "id": "wPOfvr97zTxL"
      },
      "source": [
        "\n",
        "while (number != 1 ):\n",
        "  number = collatz(number)"
      ],
      "id": "wPOfvr97zTxL",
      "execution_count": null,
      "outputs": []
    }
  ]
}