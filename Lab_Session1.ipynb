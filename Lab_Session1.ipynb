{
  "nbformat": 4,
  "nbformat_minor": 5,
  "metadata": {
    "kernelspec": {
      "display_name": "Python 3",
      "language": "python",
      "name": "python3"
    },
    "language_info": {
      "codemirror_mode": {
        "name": "ipython",
        "version": 3
      },
      "file_extension": ".py",
      "mimetype": "text/x-python",
      "name": "python",
      "nbconvert_exporter": "python",
      "pygments_lexer": "ipython3",
      "version": "3.8.3"
    },
    "colab": {
      "name": "Lab Session1.ipynb",
      "provenance": [],
      "collapsed_sections": []
    }
  },
  "cells": [
    {
      "cell_type": "markdown",
      "metadata": {
        "id": "published-doctor"
      },
      "source": [
        "# CSCD 319 - COMPUTER VISION\n"
      ],
      "id": "published-doctor"
    },
    {
      "cell_type": "markdown",
      "metadata": {
        "id": "terminal-sentence"
      },
      "source": [
        "### ASSIGNMENT 1 - 5 marks\n",
        "\n",
        "All codes should be written in Python 3.x\n",
        "\n",
        "**SUBMISSION DEADLINE:** FRIDAY, APRIL 23rd, 2021."
      ],
      "id": "terminal-sentence"
    },
    {
      "cell_type": "markdown",
      "metadata": {
        "id": "desperate-morris"
      },
      "source": [
        "##### QUESTION 1\n",
        "Write a program to display the square root of even numbers between 1 and 50"
      ],
      "id": "desperate-morris"
    },
    {
      "cell_type": "code",
      "metadata": {
        "id": "contained-consultation"
      },
      "source": [
        "# importing square root funtion from maths library\n",
        "\n",
        "from math import sqrt"
      ],
      "id": "contained-consultation",
      "execution_count": null,
      "outputs": []
    },
    {
      "cell_type": "code",
      "metadata": {
        "id": "BgMehjpJb32f"
      },
      "source": [
        "\n",
        "\n",
        "def displaySquareRoot():\n",
        "\n",
        "  '''\n",
        "  display square root of even numbers between 1 and 50\n",
        "  \n",
        "  '''\n",
        "\n",
        "  for i in range(2, 50, 2):\n",
        "    print(f'Even number: {i} --- Square root {sqrt(i)}')"
      ],
      "id": "BgMehjpJb32f",
      "execution_count": null,
      "outputs": []
    },
    {
      "cell_type": "code",
      "metadata": {
        "colab": {
          "base_uri": "https://localhost:8080/"
        },
        "id": "vFYL-DRoacN7",
        "outputId": "d5b88032-a313-48ce-fb50-13f6d12fe042"
      },
      "source": [
        "displaySquareRoot()"
      ],
      "id": "vFYL-DRoacN7",
      "execution_count": null,
      "outputs": [
        {
          "output_type": "stream",
          "text": [
            "Even number: 2 --- Square root 1.4142135623730951\n",
            "Even number: 4 --- Square root 2.0\n",
            "Even number: 6 --- Square root 2.449489742783178\n",
            "Even number: 8 --- Square root 2.8284271247461903\n",
            "Even number: 10 --- Square root 3.1622776601683795\n",
            "Even number: 12 --- Square root 3.4641016151377544\n",
            "Even number: 14 --- Square root 3.7416573867739413\n",
            "Even number: 16 --- Square root 4.0\n",
            "Even number: 18 --- Square root 4.242640687119285\n",
            "Even number: 20 --- Square root 4.47213595499958\n",
            "Even number: 22 --- Square root 4.69041575982343\n",
            "Even number: 24 --- Square root 4.898979485566356\n",
            "Even number: 26 --- Square root 5.0990195135927845\n",
            "Even number: 28 --- Square root 5.291502622129181\n",
            "Even number: 30 --- Square root 5.477225575051661\n",
            "Even number: 32 --- Square root 5.656854249492381\n",
            "Even number: 34 --- Square root 5.830951894845301\n",
            "Even number: 36 --- Square root 6.0\n",
            "Even number: 38 --- Square root 6.164414002968976\n",
            "Even number: 40 --- Square root 6.324555320336759\n",
            "Even number: 42 --- Square root 6.48074069840786\n",
            "Even number: 44 --- Square root 6.6332495807108\n",
            "Even number: 46 --- Square root 6.782329983125268\n",
            "Even number: 48 --- Square root 6.928203230275509\n"
          ],
          "name": "stdout"
        }
      ]
    },
    {
      "cell_type": "markdown",
      "metadata": {
        "id": "animal-position"
      },
      "source": [
        "##### QUESTION 2\n",
        "\n",
        "Write a program to generate an array of 10 random whole numbers with the lower limit and the upper limit coming from a user input.\\\n",
        "This means that a user would define the lower boundary of the array as well as the upper boundary by providing an input for both values.\\\n",
        "And then you generate an array/list of random numbers that falls within the given user input.\n",
        "\n",
        "**Hint:** You may use the random method imported to help you generate the numbers. "
      ],
      "id": "animal-position"
    },
    {
      "cell_type": "code",
      "metadata": {
        "id": "faced-panic"
      },
      "source": [
        "import random"
      ],
      "id": "faced-panic",
      "execution_count": null,
      "outputs": []
    },
    {
      "cell_type": "code",
      "metadata": {
        "id": "bpicL-LMgrus"
      },
      "source": [
        "def build_array(lower, upper):\n",
        "  \n",
        "  '''\n",
        "  Return a radomly generated array of length 10\n",
        "\n",
        "  Parameters:\n",
        "  -----\n",
        "  lower_limit (int): lower boundary of array\n",
        "\n",
        "  upperupper_limit (int): upper boundary of array\n",
        "\n",
        "  '''\n",
        "  generated_array = []\n",
        "  if (lower > upper):\n",
        "    print('Sorry, lower limit is greater than upper limit, try again!')\n",
        "    return\n",
        "  for _ in range(10):\n",
        "    generated_array.append(random.randint(lower, upper))\n",
        "  \n",
        "  return generated_array"
      ],
      "id": "bpicL-LMgrus",
      "execution_count": null,
      "outputs": []
    },
    {
      "cell_type": "code",
      "metadata": {
        "colab": {
          "base_uri": "https://localhost:8080/"
        },
        "id": "Va_TBrXtcVGP",
        "outputId": "d523285c-4d27-4918-cd7b-b7c29a6473b3"
      },
      "source": [
        "#get user input\n",
        "\n",
        "lower_limit = int(input('Enter lower limit (eg. 10): '))\n",
        "upper_limit = int(input('Enter upper limit (eg. 50): '))"
      ],
      "id": "Va_TBrXtcVGP",
      "execution_count": null,
      "outputs": [
        {
          "output_type": "stream",
          "text": [
            "Enter lower limit (eg. 10): 20\n",
            "Enter upper limit (eg. 50): 100\n"
          ],
          "name": "stdout"
        }
      ]
    },
    {
      "cell_type": "code",
      "metadata": {
        "id": "0jl9dQF0p83N",
        "colab": {
          "base_uri": "https://localhost:8080/"
        },
        "outputId": "be0c7665-2301-44cc-e41e-e544de45f839"
      },
      "source": [
        "gen_array = build_array(lower_limit, upper_limit)\n",
        "print(gen_array)"
      ],
      "id": "0jl9dQF0p83N",
      "execution_count": null,
      "outputs": [
        {
          "output_type": "stream",
          "text": [
            "[58, 98, 69, 72, 71, 74, 72, 86, 30, 52]\n"
          ],
          "name": "stdout"
        }
      ]
    },
    {
      "cell_type": "markdown",
      "metadata": {
        "id": "aXlKxTDguep-"
      },
      "source": [
        "###### alternative approach"
      ],
      "id": "aXlKxTDguep-"
    },
    {
      "cell_type": "code",
      "metadata": {
        "colab": {
          "base_uri": "https://localhost:8080/"
        },
        "id": "kJnMlFIeuFdG",
        "outputId": "6e84a766-23f5-4009-8381-dd9692acb317"
      },
      "source": [
        "# #alternatively we can use the numpy library for fast computation and less code\n",
        "# import numpy as np\n",
        "\n",
        "# #using numpy's randint we can generate an array in just a line of code\n",
        "# alt_gen_array = list(np.random.randint(lower_limit, upper_limit, 10))\n",
        "# print(alt_gen_array)"
      ],
      "id": "kJnMlFIeuFdG",
      "execution_count": null,
      "outputs": [
        {
          "output_type": "stream",
          "text": [
            "[26, 63, 96, 43, 38, 39, 35, 31, 85, 35]\n"
          ],
          "name": "stdout"
        }
      ]
    },
    {
      "cell_type": "markdown",
      "metadata": {
        "id": "medium-williams"
      },
      "source": [
        "##### QUESTION 3\n",
        "\n",
        "Write a function that takes the array generated above in Question 2 as an argument and perform both the addition and multiplication operations on the array.\\\n",
        "Print out the results of each operation."
      ],
      "id": "medium-williams"
    },
    {
      "cell_type": "code",
      "metadata": {
        "id": "formed-fashion"
      },
      "source": [
        "#using numpy\n",
        "import numpy as np\n",
        "\n",
        "def add_mul_array(array):\n",
        "\n",
        "  add_sum = np.sum(array)\n",
        "  print(f'Sum: {add_sum}')\n",
        "\n",
        "  mul = np.prod(array)\n",
        "\n",
        "  print(f'Product: {mul}')"
      ],
      "id": "formed-fashion",
      "execution_count": null,
      "outputs": []
    },
    {
      "cell_type": "code",
      "metadata": {
        "colab": {
          "base_uri": "https://localhost:8080/"
        },
        "id": "_o5gdMEtwz0f",
        "outputId": "a49886b9-ec40-48c8-b8a3-e87bee8642da"
      },
      "source": [
        "add_mul_array(gen_array)"
      ],
      "id": "_o5gdMEtwz0f",
      "execution_count": null,
      "outputs": [
        {
          "output_type": "stream",
          "text": [
            "Sum: 682\n",
            "Product: 1433115756468264960\n"
          ],
          "name": "stdout"
        }
      ]
    },
    {
      "cell_type": "markdown",
      "metadata": {
        "id": "historical-blake"
      },
      "source": [
        "##### QUESTION 4\n",
        "Let us practise with the popular Collatz sequence.\n",
        "\n",
        "Write a function named collatz() that has one parameter named number. If \n",
        "number is even, then collatz() should print number // 2 and return the resulting value.\\\n",
        "If number is odd, then collatz() should print and return (3 * number + 1).\n",
        "\n",
        "Then write a program that lets the user type in an integer and that keeps \n",
        "calling collatz() on that number until the function returns the value 1. "
      ],
      "id": "historical-blake"
    },
    {
      "cell_type": "code",
      "metadata": {
        "id": "collected-patio"
      },
      "source": [
        "def collatz(number):\n",
        "  \n",
        "  if number % 2 ==  0:\n",
        "    temp = number // 2\n",
        "    print(temp)\n",
        "    return temp\n",
        "\n",
        "  elif (number % 2 == 1):\n",
        "    temp = 3 * number + 1\n",
        "    print(temp)\n",
        "    return temp\n"
      ],
      "id": "collected-patio",
      "execution_count": null,
      "outputs": []
    },
    {
      "cell_type": "code",
      "metadata": {
        "colab": {
          "base_uri": "https://localhost:8080/"
        },
        "id": "yKzFrROr0tnG",
        "outputId": "2b6f57a4-e077-45d4-e9f3-b023151c668f"
      },
      "source": [
        "number = int(input('Please enter a number: '))"
      ],
      "id": "yKzFrROr0tnG",
      "execution_count": null,
      "outputs": [
        {
          "output_type": "stream",
          "text": [
            "Please enter a number: 200\n"
          ],
          "name": "stdout"
        }
      ]
    },
    {
      "cell_type": "code",
      "metadata": {
        "id": "wPOfvr97zTxL"
      },
      "source": [
        "\n",
        "while (number != 1 ):\n",
        "  number = collatz(number)"
      ],
      "id": "wPOfvr97zTxL",
      "execution_count": null,
      "outputs": []
    }
  ]
}